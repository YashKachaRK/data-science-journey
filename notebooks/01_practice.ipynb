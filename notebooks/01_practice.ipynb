{
 "cells": [
  {
   "cell_type": "code",
   "execution_count": 8,
   "id": "962de727",
   "metadata": {},
   "outputs": [
    {
     "name": "stdout",
     "output_type": "stream",
     "text": [
      "Student Name is Gracy\n",
      "Student Age is 22\n",
      "Student Name is Yash\n",
      "Student Age is 20\n",
      "\n",
      "Student Name is Dhruv\n",
      "Student Age is 21\n"
     ]
    }
   ],
   "source": [
    "Name = input(\"Enter Name: \")\n",
    "Age = int(input(\"Enter Age: \"))\n",
    "\n",
    "# Step 1: Write into file\n",
    "with open(\"students.txt\", \"a\") as f:\n",
    "    f.write(f\"\\n\\nStudent Name is {Name}\\nStudent Age is {Age}\")\n",
    "\n",
    "# Step 2: Read the file\n",
    "with open(\"students.txt\", \"r\") as f:\n",
    "    print(f.read())\n"
   ]
  }
 ],
 "metadata": {
  "kernelspec": {
   "display_name": "Python 3",
   "language": "python",
   "name": "python3"
  },
  "language_info": {
   "codemirror_mode": {
    "name": "ipython",
    "version": 3
   },
   "file_extension": ".py",
   "mimetype": "text/x-python",
   "name": "python",
   "nbconvert_exporter": "python",
   "pygments_lexer": "ipython3",
   "version": "3.13.2"
  }
 },
 "nbformat": 4,
 "nbformat_minor": 5
}
