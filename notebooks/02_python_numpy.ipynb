{
 "cells": [
  {
   "cell_type": "markdown",
   "id": "6ce88da1",
   "metadata": {},
   "source": [
    "# Numpy"
   ]
  }
 ],
 "metadata": {
  "language_info": {
   "name": "python"
  }
 },
 "nbformat": 4,
 "nbformat_minor": 5
}
