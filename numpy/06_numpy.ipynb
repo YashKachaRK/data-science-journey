{
 "cells": [
  {
   "cell_type": "markdown",
   "id": "50f9f3d5",
   "metadata": {},
   "source": [
    "Arithmetic Fuctions"
   ]
  },
  {
   "cell_type": "markdown",
   "id": "1353bf3f",
   "metadata": {},
   "source": [
    "![alt text](image-6.png)"
   ]
  },
  {
   "cell_type": "code",
   "execution_count": 1,
   "id": "3a150ff0",
   "metadata": {},
   "outputs": [],
   "source": [
    "import numpy as np"
   ]
  },
  {
   "cell_type": "code",
   "execution_count": 5,
   "id": "6d9d68bd",
   "metadata": {},
   "outputs": [],
   "source": [
    "a = np.array([0,23,3,2,2,1,3,4,3])"
   ]
  },
  {
   "cell_type": "code",
   "execution_count": null,
   "id": "0cea3a9c",
   "metadata": {},
   "outputs": [
    {
     "name": "stdout",
     "output_type": "stream",
     "text": [
      "0 0\n"
     ]
    }
   ],
   "source": [
    "print(np.min(a),np.argmin(a)) # argmin show position number / index number"
   ]
  },
  {
   "cell_type": "code",
   "execution_count": 12,
   "id": "f18e08e8",
   "metadata": {},
   "outputs": [
    {
     "name": "stdout",
     "output_type": "stream",
     "text": [
      "23 1\n"
     ]
    }
   ],
   "source": [
    "print(np.max(a), np.argmax(a))"
   ]
  },
  {
   "cell_type": "code",
   "execution_count": 19,
   "id": "d409d322",
   "metadata": {},
   "outputs": [],
   "source": [
    "b= np.array([[2,3,4],[14,6,1]])"
   ]
  },
  {
   "cell_type": "code",
   "execution_count": 24,
   "id": "de1a124b",
   "metadata": {},
   "outputs": [
    {
     "name": "stdout",
     "output_type": "stream",
     "text": [
      "[2 1]\n",
      "[2 3 1]\n"
     ]
    }
   ],
   "source": [
    "print(np.min(b,axis=1))  #asix = 0 is colum ma kam kare , asix =1 is row ma kam kare \n",
    "print(np.min(b,axis=0))  #asix = 0 is colum ma kam kare , asix =1 is row ma kam kare \n"
   ]
  },
  {
   "cell_type": "code",
   "execution_count": 28,
   "id": "b461af9a",
   "metadata": {},
   "outputs": [
    {
     "name": "stdout",
     "output_type": "stream",
     "text": [
      "[0.84147098 0.90929743 0.14112001]\n",
      "[ 0.54030231 -0.41614684 -0.9899925 ]\n"
     ]
    }
   ],
   "source": [
    "c = np.array([1,2,3])\n",
    "\n",
    "print(np.sin(c))\n",
    "print(np.cos(c))"
   ]
  },
  {
   "cell_type": "code",
   "execution_count": 29,
   "id": "32d30ca0",
   "metadata": {},
   "outputs": [
    {
     "name": "stdout",
     "output_type": "stream",
     "text": [
      "[1 3 6]\n"
     ]
    }
   ],
   "source": [
    "# cumsum\n",
    "\n",
    "print(np.cumsum(c))"
   ]
  }
 ],
 "metadata": {
  "kernelspec": {
   "display_name": "Python 3",
   "language": "python",
   "name": "python3"
  },
  "language_info": {
   "codemirror_mode": {
    "name": "ipython",
    "version": 3
   },
   "file_extension": ".py",
   "mimetype": "text/x-python",
   "name": "python",
   "nbconvert_exporter": "python",
   "pygments_lexer": "ipython3",
   "version": "3.13.2"
  }
 },
 "nbformat": 4,
 "nbformat_minor": 5
}
