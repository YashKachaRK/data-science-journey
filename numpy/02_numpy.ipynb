{
 "cells": [
  {
   "cell_type": "markdown",
   "id": "9074eb07",
   "metadata": {},
   "source": [
    "CREATE NUMPY ARRAY USING NUMPY FUNCTION\n"
   ]
  },
  {
   "cell_type": "markdown",
   "id": "f8ed9a11",
   "metadata": {},
   "source": [
    "![alt text](image-2.png)"
   ]
  },
  {
   "cell_type": "markdown",
   "id": "c732718b",
   "metadata": {},
   "source": [
    "zero array create \n",
    "\n",
    "array ni under badha zero j hoi "
   ]
  },
  {
   "cell_type": "code",
   "execution_count": 1,
   "id": "b9477a9f",
   "metadata": {},
   "outputs": [],
   "source": [
    "import numpy as np"
   ]
  },
  {
   "cell_type": "code",
   "execution_count": null,
   "id": "fe2aa501",
   "metadata": {},
   "outputs": [],
   "source": [
    "ar=np.zeros(4)\n",
    "print(\"1D   \",ar)\n",
    "print()\n",
    "\n",
    "ar2 = np.zeros((3,4))\n",
    "print(\"2D   \",ar2)\n",
    "print()\n",
    "\n",
    "ar3=np.zeros(((3,4,5)))\n",
    "print(\"3D   \",ar3)\n",
    "print(np.ndim(ar3))"
   ]
  },
  {
   "cell_type": "markdown",
   "id": "f9728982",
   "metadata": {},
   "source": [
    "ONES\n"
   ]
  },
  {
   "cell_type": "code",
   "execution_count": 23,
   "id": "fcdedd2b",
   "metadata": {},
   "outputs": [
    {
     "name": "stdout",
     "output_type": "stream",
     "text": [
      "1D    [1. 1. 1. 1. 1.]\n",
      "\n",
      "2D    [[1. 1. 1.]\n",
      " [1. 1. 1.]\n",
      " [1. 1. 1.]]\n",
      "2\n"
     ]
    }
   ],
   "source": [
    "a = np.ones(5)\n",
    "print(\"1D   \",a)\n",
    "print()\n",
    "\n",
    "b = np.ones((3,3))\n",
    "print(\"2D   \" ,b)\n",
    "print(np.ndim(b))"
   ]
  },
  {
   "cell_type": "markdown",
   "id": "9721b224",
   "metadata": {},
   "source": [
    "EMPTY"
   ]
  },
  {
   "cell_type": "code",
   "execution_count": 24,
   "id": "707d17b7",
   "metadata": {},
   "outputs": [
    {
     "name": "stdout",
     "output_type": "stream",
     "text": [
      "[1. 1. 1. 1. 1.]\n"
     ]
    }
   ],
   "source": [
    "e = np.empty(5)\n",
    "print(e)"
   ]
  },
  {
   "cell_type": "markdown",
   "id": "d0f4968f",
   "metadata": {},
   "source": [
    "RANGE ARRAY"
   ]
  },
  {
   "cell_type": "code",
   "execution_count": 25,
   "id": "4cedd4df",
   "metadata": {},
   "outputs": [
    {
     "name": "stdout",
     "output_type": "stream",
     "text": [
      "[ 0  1  2  3  4  5  6  7  8  9 10 11 12 13 14 15 16 17 18 19]\n"
     ]
    }
   ],
   "source": [
    "arr = np.arange(20)\n",
    "print(arr)"
   ]
  },
  {
   "cell_type": "markdown",
   "id": "bfef1282",
   "metadata": {},
   "source": [
    "Diagnol is 1\n",
    "[1 0 0\n",
    " 0 1 0\n",
    " 0 0 1]"
   ]
  },
  {
   "cell_type": "code",
   "execution_count": 26,
   "id": "84a36fa4",
   "metadata": {},
   "outputs": [
    {
     "name": "stdout",
     "output_type": "stream",
     "text": [
      "[[1. 0. 0.]\n",
      " [0. 1. 0.]\n",
      " [0. 0. 1.]]\n"
     ]
    }
   ],
   "source": [
    "dig = np.eye(3)\n",
    "print(dig)"
   ]
  },
  {
   "cell_type": "markdown",
   "id": "a4ec465a",
   "metadata": {},
   "source": [
    "Linespace"
   ]
  },
  {
   "cell_type": "code",
   "execution_count": 39,
   "id": "02e6619f",
   "metadata": {},
   "outputs": [
    {
     "name": "stdout",
     "output_type": "stream",
     "text": [
      "[  1.    25.75  50.5   75.25 100.  ]\n"
     ]
    }
   ],
   "source": [
    "lin = np.linspace(1,100,num=5)\n",
    "print(lin)"
   ]
  }
 ],
 "metadata": {
  "kernelspec": {
   "display_name": "Python 3",
   "language": "python",
   "name": "python3"
  },
  "language_info": {
   "codemirror_mode": {
    "name": "ipython",
    "version": 3
   },
   "file_extension": ".py",
   "mimetype": "text/x-python",
   "name": "python",
   "nbconvert_exporter": "python",
   "pygments_lexer": "ipython3",
   "version": "3.13.2"
  }
 },
 "nbformat": 4,
 "nbformat_minor": 5
}
