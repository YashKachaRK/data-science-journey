{
 "cells": [
  {
   "cell_type": "markdown",
   "id": "f7125148",
   "metadata": {},
   "source": [
    "Arthimetic oparation in arrays numpy\n",
    "![alt text](image-5.png)"
   ]
  },
  {
   "cell_type": "code",
   "execution_count": 2,
   "id": "8f279fd5",
   "metadata": {},
   "outputs": [],
   "source": [
    "import numpy as np"
   ]
  },
  {
   "cell_type": "code",
   "execution_count": 3,
   "id": "642861fd",
   "metadata": {},
   "outputs": [],
   "source": [
    "# For 1D array\n",
    "\n",
    "a = np.array([1,2,3,4])\n",
    "b = np.array([5,6,7,8])\n"
   ]
  },
  {
   "cell_type": "code",
   "execution_count": 6,
   "id": "ecb56e6a",
   "metadata": {},
   "outputs": [
    {
     "name": "stdout",
     "output_type": "stream",
     "text": [
      "[4 5 6 7]\n"
     ]
    }
   ],
   "source": [
    "# signel add\n",
    "res = a +3\n",
    "print(res)\n",
    "\n"
   ]
  },
  {
   "cell_type": "code",
   "execution_count": 8,
   "id": "c009fe82",
   "metadata": {},
   "outputs": [
    {
     "name": "stdout",
     "output_type": "stream",
     "text": [
      "[ 6  8 10 12]\n"
     ]
    }
   ],
   "source": [
    "res = a+b\n",
    "print(res)"
   ]
  },
  {
   "cell_type": "code",
   "execution_count": 9,
   "id": "dc1db206",
   "metadata": {},
   "outputs": [
    {
     "name": "stdout",
     "output_type": "stream",
     "text": [
      "[-4 -4 -4 -4]\n"
     ]
    }
   ],
   "source": [
    "res = a-b\n",
    "print(res)"
   ]
  },
  {
   "cell_type": "code",
   "execution_count": 14,
   "id": "036ee1a5",
   "metadata": {},
   "outputs": [
    {
     "name": "stdout",
     "output_type": "stream",
     "text": [
      "[ 5 12 21 32]\n",
      "int64\n"
     ]
    }
   ],
   "source": [
    "res = a*b\n",
    "print(res)\n",
    "print(res.dtype)"
   ]
  },
  {
   "cell_type": "code",
   "execution_count": 15,
   "id": "3f084849",
   "metadata": {},
   "outputs": [
    {
     "name": "stdout",
     "output_type": "stream",
     "text": [
      "[0.2        0.33333333 0.42857143 0.5       ]\n",
      "float64\n"
     ]
    }
   ],
   "source": [
    "res = a/b\n",
    "print(res)\n",
    "print(res.dtype)"
   ]
  },
  {
   "cell_type": "code",
   "execution_count": 16,
   "id": "d8455f5c",
   "metadata": {},
   "outputs": [
    {
     "name": "stdout",
     "output_type": "stream",
     "text": [
      "[1 2 3 4]\n",
      "int64\n"
     ]
    }
   ],
   "source": [
    "res = a%b\n",
    "print(res)\n",
    "print(res.dtype)"
   ]
  },
  {
   "cell_type": "code",
   "execution_count": 20,
   "id": "72d863aa",
   "metadata": {},
   "outputs": [
    {
     "name": "stdout",
     "output_type": "stream",
     "text": [
      "Sum:  [ 6  8 10 12]\n",
      "Sub:  [-4 -4 -4 -4]\n",
      "Multi:  [ 5 12 21 32]\n",
      "[0.2        0.33333333 0.42857143 0.5       ]\n",
      "[1 2 3 4]\n",
      "[    1    64  2187 65536]\n",
      "[1 0 0 0]\n"
     ]
    }
   ],
   "source": [
    "# using fuction\n",
    "print(\"Sum: \",np.add(a,b))\n",
    "print(\"Sub: \",np.subtract(a,b))\n",
    "print(\"Multi: \",np.multiply(a,b))\n",
    "print(np.divide(a,b))\n",
    "print(np.mod(a,b))\n",
    "print(np.power(a,b))\n",
    "print(np.reciprocal(a))"
   ]
  },
  {
   "cell_type": "code",
   "execution_count": 22,
   "id": "e4819d2f",
   "metadata": {},
   "outputs": [],
   "source": [
    "# 2D ARRAY\n",
    "\n",
    "a1 = np.array([[1,2,3,4],[3,4,5,4]])\n",
    "a2=np.array([[2,3,4,5],[3,4,2,2]])"
   ]
  },
  {
   "cell_type": "code",
   "execution_count": 27,
   "id": "551aaa35",
   "metadata": {},
   "outputs": [
    {
     "name": "stdout",
     "output_type": "stream",
     "text": [
      "Add: - [[3 5 7 9]\n",
      " [6 8 7 6]]\n",
      "\n",
      " SUb:  [[-1 -1 -1 -1]\n",
      " [ 0  0  3  2]]\n",
      "\n",
      " Division:  [[0.5        0.66666667 0.75       0.8       ]\n",
      " [1.         1.         2.5        2.        ]]\n",
      "\n",
      " Multi:  [[ 2  6 12 20]\n",
      " [ 9 16 10  8]]\n"
     ]
    }
   ],
   "source": [
    "\n",
    "print(\"Add: -\",a1+a2)\n",
    "print(\"\\n SUb: \",a1-a2)\n",
    "print(\"\\n Division: \",a1/a2)\n",
    "print(\"\\n Multi: \",a1*a2)"
   ]
  },
  {
   "cell_type": "code",
   "execution_count": 28,
   "id": "bdf1dd92",
   "metadata": {},
   "outputs": [
    {
     "name": "stdout",
     "output_type": "stream",
     "text": [
      "[[3 5 7 9]\n",
      " [6 8 7 6]]\n"
     ]
    }
   ],
   "source": [
    "print(np.add(a1,a2))"
   ]
  }
 ],
 "metadata": {
  "kernelspec": {
   "display_name": "Python 3",
   "language": "python",
   "name": "python3"
  },
  "language_info": {
   "codemirror_mode": {
    "name": "ipython",
    "version": 3
   },
   "file_extension": ".py",
   "mimetype": "text/x-python",
   "name": "python",
   "nbconvert_exporter": "python",
   "pygments_lexer": "ipython3",
   "version": "3.13.2"
  }
 },
 "nbformat": 4,
 "nbformat_minor": 5
}
