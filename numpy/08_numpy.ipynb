{
 "cells": [
  {
   "cell_type": "markdown",
   "id": "157dbce0",
   "metadata": {},
   "source": [
    "# BroadCasting"
   ]
  },
  {
   "cell_type": "code",
   "execution_count": 1,
   "id": "9f66abd3",
   "metadata": {},
   "outputs": [],
   "source": [
    "import numpy as np"
   ]
  },
  {
   "cell_type": "code",
   "execution_count": 2,
   "id": "2f13ffff",
   "metadata": {},
   "outputs": [
    {
     "name": "stdout",
     "output_type": "stream",
     "text": [
      "[2 4 6]\n"
     ]
    }
   ],
   "source": [
    "var1 = np.array([1,2,3])\n",
    "var2 = np.array([1,2,3])\n",
    "print (var1 + var2)"
   ]
  },
  {
   "cell_type": "code",
   "execution_count": 6,
   "id": "e217b2a0",
   "metadata": {},
   "outputs": [
    {
     "name": "stdout",
     "output_type": "stream",
     "text": [
      "SHapes:\n",
      "(3,)\n",
      "\n",
      "(3, 1)\n",
      "\n",
      " [1 2 3]\n",
      "\n",
      " [[1]\n",
      " [2]\n",
      " [3]]\n",
      "\n",
      "[[2 3 4]\n",
      " [3 4 5]\n",
      " [4 5 6]]\n"
     ]
    }
   ],
   "source": [
    "a = np.array([1,2,3])\n",
    "b= np.array([[1],[2],[3]])\n",
    "\n",
    "print(\"SHapes:\")\n",
    "print(a.shape)\n",
    "print()\n",
    "print(b.shape)\n",
    "\n",
    "print(\"\\n\",a)\n",
    "print(\"\\n\",b)\n",
    "\n",
    "print()\n",
    "\n",
    "print(a+b)"
   ]
  },
  {
   "cell_type": "code",
   "execution_count": 10,
   "id": "f608ea41",
   "metadata": {},
   "outputs": [
    {
     "name": "stdout",
     "output_type": "stream",
     "text": [
      "Array\n",
      "\n",
      "[[1]\n",
      " [2]] \n",
      "\n",
      "[[1 2 3]\n",
      " [1 2 3]] \n",
      "\n",
      "(2, 1)\n",
      "(2, 3)\n",
      "\n",
      " [[2 3 4]\n",
      " [3 4 5]]\n"
     ]
    }
   ],
   "source": [
    "x=np.array([[1],[2]])\n",
    "z=np.array([[1,2,3],[1,2,3]])\n",
    "\n",
    "print(\"Array\\n\")\n",
    "print(x,\"\\n\")\n",
    "print(z,\"\\n\")\n",
    "print(x.shape)\n",
    "print(z.shape)\n",
    "\n",
    "print(\"\\n\",x+z)"
   ]
  }
 ],
 "metadata": {
  "kernelspec": {
   "display_name": "Python 3",
   "language": "python",
   "name": "python3"
  },
  "language_info": {
   "codemirror_mode": {
    "name": "ipython",
    "version": 3
   },
   "file_extension": ".py",
   "mimetype": "text/x-python",
   "name": "python",
   "nbconvert_exporter": "python",
   "pygments_lexer": "ipython3",
   "version": "3.13.2"
  }
 },
 "nbformat": 4,
 "nbformat_minor": 5
}
