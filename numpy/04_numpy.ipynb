{
 "cells": [
  {
   "cell_type": "markdown",
   "id": "4cc64708",
   "metadata": {},
   "source": [
    "# What is Data Type of NumPy Array?\n",
    "![alt text](image-4.png)"
   ]
  },
  {
   "cell_type": "code",
   "execution_count": null,
   "id": "8e1adce3",
   "metadata": {
    "vscode": {
     "languageId": "plaintext"
    }
   },
   "outputs": [],
   "source": []
  }
 ],
 "metadata": {
  "language_info": {
   "name": "python"
  }
 },
 "nbformat": 4,
 "nbformat_minor": 5
}
