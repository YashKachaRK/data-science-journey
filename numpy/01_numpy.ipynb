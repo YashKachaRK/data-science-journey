{
 "cells": [
  {
   "cell_type": "markdown",
   "id": "34c9c7ec",
   "metadata": {},
   "source": [
    "\n",
    "    there three type of array\n",
    "    1D array\n",
    "    2D array\n",
    "    3D array\n",
    "    higher deminsional array\n",
    "    Array look like matrix & detarment\n",
    "    ![alt text](image.png)"
   ]
  },
  {
   "cell_type": "code",
   "execution_count": 2,
   "id": "da03bc71",
   "metadata": {},
   "outputs": [],
   "source": [
    "import numpy as np"
   ]
  },
  {
   "cell_type": "code",
   "execution_count": 11,
   "id": "284c9c85",
   "metadata": {},
   "outputs": [
    {
     "name": "stdout",
     "output_type": "stream",
     "text": [
      "[1 2 3 4 5 6]\n",
      "<class 'numpy.ndarray'>\n",
      "19.6 ns ± 3.21 ns per loop (mean ± std. dev. of 7 runs, 10,000,000 loops each)\n"
     ]
    }
   ],
   "source": [
    "# create array\n",
    "x = np.array([1,2,3,4,5,6])\n",
    "print(x)\n",
    "print(type(x))\n",
    "%timeit x\n"
   ]
  },
  {
   "cell_type": "code",
   "execution_count": 10,
   "id": "b6c829b4",
   "metadata": {},
   "outputs": [
    {
     "name": "stdout",
     "output_type": "stream",
     "text": [
      "[1, 2, 3, 45]\n",
      "<class 'list'>\n",
      "28.7 ns ± 2.27 ns per loop (mean ± std. dev. of 7 runs, 10,000,000 loops each)\n"
     ]
    }
   ],
   "source": [
    "list1 = [1,2,3,45]\n",
    "print(list1)\n",
    "print(type(list1))\n",
    "\n",
    "%timeit list1\n"
   ]
  },
  {
   "cell_type": "markdown",
   "id": "a470be94",
   "metadata": {},
   "source": [
    "![alt text](image-1.png)\n",
    "diffrence array vs list\n"
   ]
  },
  {
   "cell_type": "code",
   "execution_count": null,
   "id": "0e653d4f",
   "metadata": {},
   "outputs": [
    {
     "name": "stdout",
     "output_type": "stream",
     "text": [
      "[ 2  3 22  2]\n"
     ]
    }
   ],
   "source": [
    "l = []\n",
    "for i in range(1,5):\n",
    "    int_1 = int(input(\"Enter Numbe\")) #int get\n",
    "    l.append(int_1)\n",
    "print(np.array(l))"
   ]
  },
  {
   "cell_type": "markdown",
   "id": "e7f0d132",
   "metadata": {},
   "source": [
    "1D ARRAY\n"
   ]
  },
  {
   "cell_type": "code",
   "execution_count": null,
   "id": "d6b7048d",
   "metadata": {},
   "outputs": [
    {
     "name": "stdout",
     "output_type": "stream",
     "text": [
      "[1 2 3]\n",
      "1\n"
     ]
    }
   ],
   "source": [
    "a = np.array([1,2,3])\n",
    "print(a)\n",
    "print(np.ndim(a))\n",
    "#  ndim thi kbr pade kyo array chhe"
   ]
  },
  {
   "cell_type": "markdown",
   "id": "6fc48ba0",
   "metadata": {},
   "source": [
    "2D ARRAY\n"
   ]
  },
  {
   "cell_type": "code",
   "execution_count": 25,
   "id": "5098fcb5",
   "metadata": {},
   "outputs": [
    {
     "name": "stdout",
     "output_type": "stream",
     "text": [
      "[[1 2 3]\n",
      " [1 2 5]]\n",
      "2\n"
     ]
    }
   ],
   "source": [
    "b=np.array([[1,2,3],[1,2,5]])\n",
    "print(b)\n",
    "print(np.ndim(b))"
   ]
  },
  {
   "cell_type": "markdown",
   "id": "38ba450a",
   "metadata": {},
   "source": [
    "3D ARRAY\n"
   ]
  },
  {
   "cell_type": "code",
   "execution_count": 29,
   "id": "273753c1",
   "metadata": {},
   "outputs": [
    {
     "name": "stdout",
     "output_type": "stream",
     "text": [
      "[[[1 2 3]\n",
      "  [2 5 6]\n",
      "  [6 7 8]]]\n",
      "3\n"
     ]
    }
   ],
   "source": [
    "c = np.array([[[1,2,3],[2,5,6],[6,7,8]]])\n",
    "print(c)\n",
    "print(np.ndim(c))"
   ]
  },
  {
   "cell_type": "markdown",
   "id": "fd9a440d",
   "metadata": {},
   "source": [
    "N DIMENSION ARRAY CREATE`"
   ]
  },
  {
   "cell_type": "code",
   "execution_count": 32,
   "id": "6f8cfca3",
   "metadata": {},
   "outputs": [
    {
     "name": "stdout",
     "output_type": "stream",
     "text": [
      "[[[[[[[[[[1 2 3 4]]]]]]]]]]\n",
      "10\n"
     ]
    }
   ],
   "source": [
    "n = np.array([1,2,3,4] , ndmin=10)\n",
    "print(n)\n",
    "print(np.ndim(n))"
   ]
  }
 ],
 "metadata": {
  "kernelspec": {
   "display_name": "Python 3",
   "language": "python",
   "name": "python3"
  },
  "language_info": {
   "codemirror_mode": {
    "name": "ipython",
    "version": 3
   },
   "file_extension": ".py",
   "mimetype": "text/x-python",
   "name": "python",
   "nbconvert_exporter": "python",
   "pygments_lexer": "ipython3",
   "version": "3.13.2"
  }
 },
 "nbformat": 4,
 "nbformat_minor": 5
}
