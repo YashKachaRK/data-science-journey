{
 "cells": [
  {
   "cell_type": "code",
   "execution_count": null,
   "id": "531ff897",
   "metadata": {},
   "outputs": [],
   "source": [
    "import numpy as np\n"
   ]
  },
  {
   "cell_type": "markdown",
   "id": "8eb827a3",
   "metadata": {},
   "source": [
    "CREATE NUMPY ARRAY WITH RANDOM ARRAY"
   ]
  },
  {
   "cell_type": "markdown",
   "id": "86f4ce57",
   "metadata": {},
   "source": [
    "![alt text](image-3.png)"
   ]
  },
  {
   "cell_type": "code",
   "execution_count": null,
   "id": "4687e978",
   "metadata": {},
   "outputs": [
    {
     "name": "stdout",
     "output_type": "stream",
     "text": [
      "[0.0689743]\n"
     ]
    }
   ],
   "source": [
    "a=np.random.rand(1)\n",
    "print(a)"
   ]
  },
  {
   "cell_type": "code",
   "execution_count": 44,
   "id": "a054836e",
   "metadata": {},
   "outputs": [
    {
     "name": "stdout",
     "output_type": "stream",
     "text": [
      "[[0.28322135 0.0301812  0.6885416  0.41615181 0.49224539]\n",
      " [0.42648457 0.39365009 0.98346384 0.39194277 0.18793741]]\n",
      "2\n"
     ]
    }
   ],
   "source": [
    "b=np.random.rand(2,5)\n",
    "print(b)\n",
    "print(np.ndim(b))"
   ]
  },
  {
   "cell_type": "code",
   "execution_count": 47,
   "id": "18ab791e",
   "metadata": {},
   "outputs": [
    {
     "name": "stdout",
     "output_type": "stream",
     "text": [
      "[[[0.99429805 0.27812802]\n",
      "  [0.74715061 0.51281919]\n",
      "  [0.71731803 0.91743783]\n",
      "  [0.3987521  0.22225671]\n",
      "  [0.17042162 0.6610166 ]]\n",
      "\n",
      " [[0.68014998 0.39049577]\n",
      "  [0.10948261 0.66843193]\n",
      "  [0.99587087 0.06210165]\n",
      "  [0.54462218 0.85921126]\n",
      "  [0.20555123 0.69173905]]\n",
      "\n",
      " [[0.82353758 0.15179228]\n",
      "  [0.11358878 0.19685808]\n",
      "  [0.767445   0.21558088]\n",
      "  [0.74617413 0.26482103]\n",
      "  [0.40754949 0.98686093]]]\n",
      "3\n"
     ]
    }
   ],
   "source": [
    "c = np.random.rand(3,5,2)\n",
    "print(c)\n",
    "print(np.ndim(c))"
   ]
  },
  {
   "cell_type": "markdown",
   "id": "11044440",
   "metadata": {},
   "source": [
    "randn()"
   ]
  },
  {
   "cell_type": "code",
   "execution_count": 51,
   "id": "5820b4c2",
   "metadata": {},
   "outputs": [
    {
     "name": "stdout",
     "output_type": "stream",
     "text": [
      "[ 0.56303526 -0.75127129  0.6308988 ]\n",
      "\n",
      "\n",
      "\n",
      "[[ 0.81644483  0.0630732  -1.30440312]\n",
      " [ 1.44001922  0.40822311  0.2133137 ]]\n",
      "\n",
      "\n",
      "\n",
      "[[[ 0.75324588 -0.40338726  1.98719598 -1.28185539 -0.25533057]\n",
      "  [-1.30146379 -0.68836009  0.97070345 -0.38006646  0.15713415]\n",
      "  [-0.54647339  0.36714915  1.16933549  1.0294364   0.97987428]]\n",
      "\n",
      " [[-0.74225409  1.118814   -0.75338862  1.36044692 -0.7684869 ]\n",
      "  [-0.04656139  1.12386909 -1.43160882  0.34508497 -1.31725629]\n",
      "  [-0.59563349  0.43892035  0.8835971  -0.65368546 -1.75235809]]]\n"
     ]
    }
   ],
   "source": [
    "a = np.random.randn(3)\n",
    "print(a)\n",
    "print(\"\\n\\n\")\n",
    "b=np.random.randn(2,3)\n",
    "print(b)\n",
    "print(\"\\n\\n\")\n",
    "c=np.random.randn(2,3,5)\n",
    "print(c)"
   ]
  },
  {
   "cell_type": "markdown",
   "id": "0351707f",
   "metadata": {},
   "source": [
    "ranf()"
   ]
  },
  {
   "cell_type": "code",
   "execution_count": 56,
   "id": "8b89e6d5",
   "metadata": {},
   "outputs": [
    {
     "name": "stdout",
     "output_type": "stream",
     "text": [
      "[0.63166587 0.48542587 0.20280254]\n"
     ]
    }
   ],
   "source": [
    "a=np.random.ranf(3)\n",
    "print(a)"
   ]
  },
  {
   "cell_type": "markdown",
   "id": "d0e4570f",
   "metadata": {},
   "source": [
    "randint()"
   ]
  },
  {
   "cell_type": "code",
   "execution_count": null,
   "id": "e0678194",
   "metadata": {},
   "outputs": [
    {
     "name": "stdout",
     "output_type": "stream",
     "text": [
      "[9734 1800 1886 9785]\n"
     ]
    }
   ],
   "source": [
    "a=np.random.randint(1000,9999,4)\n",
    "\n",
    "\n",
    "print(a)\n"
   ]
  },
  {
   "cell_type": "code",
   "execution_count": null,
   "id": "9f6e3ba5",
   "metadata": {},
   "outputs": [],
   "source": []
  }
 ],
 "metadata": {
  "kernelspec": {
   "display_name": "Python 3",
   "language": "python",
   "name": "python3"
  },
  "language_info": {
   "codemirror_mode": {
    "name": "ipython",
    "version": 3
   },
   "file_extension": ".py",
   "mimetype": "text/x-python",
   "name": "python",
   "nbconvert_exporter": "python",
   "pygments_lexer": "ipython3",
   "version": "3.13.2"
  }
 },
 "nbformat": 4,
 "nbformat_minor": 5
}
