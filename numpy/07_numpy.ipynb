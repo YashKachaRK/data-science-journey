{
 "cells": [
  {
   "cell_type": "markdown",
   "id": "28d16091",
   "metadata": {},
   "source": [
    "Shape & ReShape"
   ]
  },
  {
   "cell_type": "markdown",
   "id": "2c3c21cf",
   "metadata": {},
   "source": [
    "Shape"
   ]
  },
  {
   "cell_type": "code",
   "execution_count": 3,
   "id": "ba1da515",
   "metadata": {},
   "outputs": [],
   "source": [
    "import numpy as np"
   ]
  },
  {
   "cell_type": "code",
   "execution_count": 4,
   "id": "601c7b35",
   "metadata": {},
   "outputs": [],
   "source": [
    "a = np.array([[12,32,32],[2,3,3]])"
   ]
  },
  {
   "cell_type": "code",
   "execution_count": 7,
   "id": "2bbc5f20",
   "metadata": {},
   "outputs": [
    {
     "name": "stdout",
     "output_type": "stream",
     "text": [
      "[[12 32 32]\n",
      " [ 2  3  3]]\n",
      "\n",
      "Shape (2, 3)\n"
     ]
    }
   ],
   "source": [
    "print(a)\n",
    "print()\n",
    "print(\"Shape\", a.shape)"
   ]
  },
  {
   "cell_type": "code",
   "execution_count": 12,
   "id": "9f6a7c79",
   "metadata": {},
   "outputs": [
    {
     "name": "stdout",
     "output_type": "stream",
     "text": [
      "[[[[[[[[[[1 2 3 4]]]]]]]]]] 10\n"
     ]
    }
   ],
   "source": [
    "b = np.array([1,2,3,4],ndmin=10)\n",
    "print(b,np.ndim(b))"
   ]
  },
  {
   "cell_type": "code",
   "execution_count": 13,
   "id": "9bd2f46c",
   "metadata": {},
   "outputs": [
    {
     "name": "stdout",
     "output_type": "stream",
     "text": [
      "SHape (1, 1, 1, 1, 1, 1, 1, 1, 1, 4)\n"
     ]
    }
   ],
   "source": [
    "print(\"SHape\",b.shape)"
   ]
  },
  {
   "cell_type": "code",
   "execution_count": 14,
   "id": "f37f223c",
   "metadata": {},
   "outputs": [],
   "source": [
    "# Reshape "
   ]
  },
  {
   "cell_type": "code",
   "execution_count": 46,
   "id": "4229891a",
   "metadata": {},
   "outputs": [],
   "source": [
    "c = np.array([1,2,3,4,5,6,1,2])"
   ]
  },
  {
   "cell_type": "code",
   "execution_count": 48,
   "id": "20d3c19b",
   "metadata": {},
   "outputs": [
    {
     "name": "stdout",
     "output_type": "stream",
     "text": [
      "[[1 2]\n",
      " [3 4]\n",
      " [5 6]\n",
      " [1 2]]\n",
      "2\n"
     ]
    }
   ],
   "source": [
    "x = c.reshape(4,2)\n",
    "print(x)\n",
    "print(np.ndim(x))"
   ]
  },
  {
   "cell_type": "code",
   "execution_count": 65,
   "id": "71af6b60",
   "metadata": {},
   "outputs": [
    {
     "name": "stdout",
     "output_type": "stream",
     "text": [
      "[[[ 1  2]\n",
      "  [ 3  4]]\n",
      "\n",
      " [[ 5  6]\n",
      "  [ 7  8]]\n",
      "\n",
      " [[ 9 10]\n",
      "  [11 12]]]\n",
      "3\n",
      "[[ 1  2]\n",
      " [ 3  4]\n",
      " [ 5  6]\n",
      " [ 7  8]\n",
      " [ 9 10]\n",
      " [11 12]]\n",
      "2\n",
      "\n",
      "[ 1  2  3  4  5  6  7  8  9 10 11 12]\n",
      "1\n"
     ]
    }
   ],
   "source": [
    "d = np.array([1,2,3,4,5,6,7,8,9,10,11,12])\n",
    "x3 = d.reshape(3,2,2)\n",
    "print(x3)\n",
    "print(x3.ndim)\n",
    "\n",
    "#  transfer to \n",
    "\n",
    "one = x3.reshape(6,2)\n",
    "print(one)\n",
    "print(one.ndim)\n",
    "\n",
    "\n",
    "# transefer to 1\n",
    "print()\n",
    "two = one.reshape(-1)\n",
    "print(two)\n",
    "print(two.ndim)"
   ]
  },
  {
   "cell_type": "markdown",
   "id": "9ea5884a",
   "metadata": {},
   "source": [
    "![alt text](image-7.png)\n",
    "![alt text](image-8.png)"
   ]
  }
 ],
 "metadata": {
  "kernelspec": {
   "display_name": "Python 3",
   "language": "python",
   "name": "python3"
  },
  "language_info": {
   "codemirror_mode": {
    "name": "ipython",
    "version": 3
   },
   "file_extension": ".py",
   "mimetype": "text/x-python",
   "name": "python",
   "nbconvert_exporter": "python",
   "pygments_lexer": "ipython3",
   "version": "3.13.2"
  }
 },
 "nbformat": 4,
 "nbformat_minor": 5
}
